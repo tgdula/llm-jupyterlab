{
 "cells": [
  {
   "cell_type": "markdown",
   "metadata": {},
   "source": [
    "# Ollama embeddings verification\n",
    "\n",
    "see: https://python.langchain.com/docs/integrations/text_embedding/ollama\n",
    "\n",
    "https://ollama.com/library/codellama\n",
    "\n",
    "https://continue.dev/docs/walkthroughs/codebase-embeddings"
   ]
  },
  {
   "cell_type": "code",
   "execution_count": 1,
   "metadata": {},
   "outputs": [],
   "source": [
    "from langchain_community.document_loaders.generic import GenericLoader\n",
    "from langchain_community.document_loaders.parsers import LanguageParser\n",
    "from langchain_text_splitters import Language, RecursiveCharacterTextSplitter\n"
   ]
  },
  {
   "cell_type": "code",
   "execution_count": 2,
   "metadata": {},
   "outputs": [],
   "source": [
    "REPO_BASIC = '/Dev/_2/DDD.cs/Domain-Driven-BASIC_CS'\n",
    "REPO_MODULAR_MONOLITH = '/Dev/_2/DDD.cs/Modular-monolith-by-example/Src'\n",
    "REPO_PATH = REPO_MODULAR_MONOLITH\n",
    "FILE_EXTENSION = '.cs'\n",
    "CHROMA_DB_SAVE_PATH = '/Temp/embeddings/ollama'"
   ]
  },
  {
   "cell_type": "code",
   "execution_count": 4,
   "metadata": {},
   "outputs": [
    {
     "name": "stdout",
     "output_type": "stream",
     "text": [
      " ** loaded files:  847\n"
     ]
    }
   ],
   "source": [
    "def load_documents(repo_path:str, file_extensions:list[str], exclude_files:list[str]=[]):\n",
    "\n",
    "    loader = GenericLoader.from_filesystem(\n",
    "        repo_path,\n",
    "        glob=\"**/*\",\n",
    "        suffixes=file_extensions,\n",
    "        exclude=exclude_files,\n",
    "        parser=LanguageParser(language=Language.CSHARP, parser_threshold=500),\n",
    "    )\n",
    "    documents = loader.load()\n",
    "    print(f' ** loaded files:  {len(documents)}')\n",
    "    return documents\n",
    "documents = load_documents(REPO_PATH, [FILE_EXTENSION])"
   ]
  },
  {
   "cell_type": "code",
   "execution_count": 5,
   "metadata": {},
   "outputs": [
    {
     "name": "stdout",
     "output_type": "stream",
     "text": [
      " ** splitted code files:  955\n"
     ]
    }
   ],
   "source": [
    "\n",
    "# HINT: split code files to some arbitrary size. Use overlap\n",
    "python_splitter = RecursiveCharacterTextSplitter.from_language(\n",
    "    language=Language.CSHARP, chunk_size=2000, chunk_overlap=200\n",
    ")\n",
    "texts = python_splitter.split_documents(documents)\n",
    "print(f' ** splitted code files:  {len(texts)}')"
   ]
  },
  {
   "cell_type": "code",
   "execution_count": 6,
   "metadata": {},
   "outputs": [
    {
     "name": "stdout",
     "output_type": "stream",
     "text": [
      " ** db collection counts:  955\n"
     ]
    }
   ],
   "source": [
    "from langchain_community.vectorstores import Chroma\n",
    "\n",
    "# from langchain_openai import OpenAIEmbeddings\n",
    "# embedding_model = OpenAIEmbeddings(disallowed_special=())\n",
    "\n",
    "from langchain_community.embeddings import OllamaEmbeddings\n",
    "embedding_model = OllamaEmbeddings()\n",
    "\n",
    "db = Chroma.from_documents(\n",
    "    documents=texts, \n",
    "    embedding=embedding_model,\n",
    "    persist_directory=CHROMA_DB_SAVE_PATH\n",
    ")\n",
    "retriever = db.as_retriever(\n",
    "    search_type=\"mmr\",  # Also test \"similarity\"\n",
    "    search_kwargs={\"k\": 8},\n",
    ")\n",
    "db.persist()\n",
    "print(f' ** db collection counts:  {db._collection.count()}')"
   ]
  },
  {
   "cell_type": "code",
   "execution_count": 7,
   "metadata": {},
   "outputs": [],
   "source": [
    "from langchain.chains import ConversationalRetrievalChain\n",
    "from langchain.memory import ConversationSummaryMemory\n",
    "# from langchain_openai import ChatOpenAI\n",
    "# llm = ChatOpenAI(model_name=\"gpt-4\")\n",
    "\n",
    "from langchain_community.llms import Ollama\n",
    "llm = Ollama(model = \"codellama:7b-instruct\")\n",
    "\n",
    "memory = ConversationSummaryMemory(\n",
    "    llm=llm, memory_key=\"chat_history\", return_messages=True\n",
    ")\n",
    "qa = ConversationalRetrievalChain.from_llm(llm, retriever=retriever, memory=memory)"
   ]
  },
  {
   "cell_type": "code",
   "execution_count": 9,
   "metadata": {},
   "outputs": [
    {
     "data": {
      "text/plain": [
       "\"It seems like you are asking for a list of classes that might be part of the Divstack Estimation Tool. Here's what I can tell you about those based on the information provided:\\n\\n1. `AskedServiceDto`: This class is used to represent a requested service in the estimation tool. It contains an ID, name, description, category ID, and a list of attributes associated with the service.\\n2. `AttributeDto`: This class is used to represent an attribute associated with a service in the estimation tool. It contains an ID and a value ID.\\n3. `Service`: This class represents a service in the estimation tool. It has an ID, name, description, category ID, and a list of attributes associated with it.\\n4. `InquiryMadeEvent`: This class is used to represent an event that occurs when a user makes an inquiry in the estimation tool. It contains an ID for the inquiry.\\n5. `IQuery<TDto>`: This interface is used as a base class for queries in the estimation tool. It provides a generic type parameter `TDto` that specifies the response type of the query.\\n6. `IPaymentIntentStripeService`: This interface is used to represent a service that can handle payment intents with Stripe in the estimation tool.\\n7. `UpdateServiceRequest`: This class is used to represent a request to update a service in the estimation tool. It contains an ID, name, description, category ID, and a list of attributes associated with the service.\""
      ]
     },
     "execution_count": 9,
     "metadata": {},
     "output_type": "execute_result"
    }
   ],
   "source": [
    "from textwrap import dedent\n",
    "\n",
    "question = dedent(\"\"\"Please list all the classes implementing IAggregateRoot, \n",
    "    such as e.g. Inquiry (from `Divstack.Company.Estimation.Tool.Inquiries.Domain.Inquiries` namespace).\n",
    "    What are the other classes from Divstack Estimation Tool?\"\"\")\n",
    "result = qa(question)\n",
    "result[\"answer\"]"
   ]
  },
  {
   "cell_type": "code",
   "execution_count": 9,
   "metadata": {},
   "outputs": [
    {
     "name": "stderr",
     "output_type": "stream",
     "text": [
      "Number of requested results 20 is greater than number of elements in index 12, updating n_results = 12\n"
     ]
    },
    {
     "data": {
      "text/plain": [
       "'```\\nusing System;\\nusing Xunit;\\nusing eCommerce.DomainModelLayer.Customers;\\nusing eCommerce.Helpers.Domain;\\n\\nnamespace eCommerce.Tests\\n{\\n    public class CustomerTests\\n    {\\n        [Fact]\\n        public void Create_ValidFirstNameLastNameEmailCountry_CreatesCustomer()\\n        {\\n            // Arrange\\n            string firstname = \"John\";\\n            string lastname = \"Doe\";\\n            string email = \"johndoe@example.com\";\\n            Country country = new Country(\"United States\", 1);\\n\\n            // Act\\n            Customer customer = Customer.Create(firstname, lastname, email, country);\\n\\n            // Assert\\n            Assert.NotNull(customer);\\n            Assert.Equal(Guid.Empty, customer.Id);\\n            Assert.Equal(\"John\", customer.FirstName);\\n            Assert.Equal(\"Doe\", customer.LastName);\\n            Assert.Equal(\"johndoe@example.com\", customer.Email);\\n            Assert.Equal(1, customer.CountryId);\\n        }\\n    }\\n}\\n```\\nThis unit test code verifies that creating a `Customer` object with valid first name, last name, email, and country values results in the creation of a new instance of the `Customer` class. The test case also checks for the correctness of the properties of the `Customer` object being created.'"
      ]
     },
     "execution_count": 9,
     "metadata": {},
     "output_type": "execute_result"
    }
   ],
   "source": [
    "question = \"Please write xunit test code that creates a Customer object and tests it succeeded.\"\n",
    "result = qa(question)\n",
    "result[\"answer\"]"
   ]
  },
  {
   "cell_type": "markdown",
   "metadata": {},
   "source": [
    "Code generated:\n",
    "```\n",
    "using System;\n",
    "using Xunit;\n",
    "using eCommerce.DomainModelLayer.Customers;\n",
    "using eCommerce.Helpers.Domain;\n",
    "\n",
    "namespace eCommerce.Tests\n",
    "{\n",
    "    public class CustomerTests\n",
    "    {\n",
    "        [Fact]\n",
    "        public void Create_ValidFirstNameLastNameEmailCountry_CreatesCustomer()\n",
    "        {\n",
    "            // Arrange\n",
    "            string firstname = \"John\";\n",
    "            string lastname = \"Doe\";\n",
    "            string email = \"johndoe@example.com\";\n",
    "            Country country = new Country(\"United States\", 1);\n",
    "            \n",
    "            // Act\n",
    "            Customer customer = Customer.Create(firstname, lastname, email, country);\n",
    "            \n",
    "            // Assert\n",
    "            Assert.NotNull(customer);\n",
    "            Assert.Equal(Guid.Empty, customer.Id);\n",
    "            Assert.Equal(\"John\", customer.FirstName);\n",
    "            Assert.Equal(\"Doe\", customer.LastName);\n",
    "            Assert.Equal(\"johndoe@example.com\", customer.Email);\n",
    "            Assert.Equal(1, customer.CountryId);\n",
    "            \n",
    "        }\n",
    "    }\n",
    "}\n",
    "```\n",
    "This unit test code verifies that creating a `Customer` object with valid first name, last name, email, and country values results in the creation of a new instance of the `Customer` class. The test case also checks for the correctness of the properties of the `Customer` object being created.\n",
    "```"
   ]
  },
  {
   "cell_type": "code",
   "execution_count": null,
   "metadata": {},
   "outputs": [],
   "source": []
  }
 ],
 "metadata": {
  "kernelspec": {
   "display_name": "LLM3.11",
   "language": "python",
   "name": "python3"
  },
  "language_info": {
   "codemirror_mode": {
    "name": "ipython",
    "version": 3
   },
   "file_extension": ".py",
   "mimetype": "text/x-python",
   "name": "python",
   "nbconvert_exporter": "python",
   "pygments_lexer": "ipython3",
   "version": "3.11.7"
  }
 },
 "nbformat": 4,
 "nbformat_minor": 2
}
