{
 "cells": [
  {
   "cell_type": "markdown",
   "metadata": {},
   "source": [
    "# Augmented-Dev: using Vertex AI\n",
    "\n",
    "Jupyter notebook with tests of the Vertex AI embeddings and LLM models\n",
    "\n",
    "HINT: it requires preliminary configuration of the local machine - including `GOOGLE_APPLICATION_CREDENTIALS` env variable, pointing to the configuration file \n",
    "\n",
    "see: https://cloud.google.com/vertex-ai/docs/start/client-libraries"
   ]
  },
  {
   "cell_type": "code",
   "execution_count": 1,
   "metadata": {},
   "outputs": [],
   "source": [
    "from langchain_community.document_loaders.generic import GenericLoader\n",
    "from langchain_community.document_loaders.parsers import LanguageParser\n",
    "from langchain_community.vectorstores import Chroma\n",
    "\n",
    "from langchain.chains import ConversationalRetrievalChain\n",
    "from langchain.memory import ConversationSummaryMemory\n",
    "\n",
    "from langchain_text_splitters import Language, RecursiveCharacterTextSplitter\n",
    "\n",
    "from textwrap import dedent\n",
    "from IPython.display import display, HTML, Markdown"
   ]
  },
  {
   "cell_type": "code",
   "execution_count": 2,
   "metadata": {},
   "outputs": [],
   "source": [
    "# load environment variables -> with override\n",
    "%load_ext dotenv\n",
    "%dotenv ../.env -o"
   ]
  },
  {
   "cell_type": "code",
   "execution_count": 3,
   "metadata": {},
   "outputs": [],
   "source": [
    "REPO_BASIC = '/Temp/augmented.dev/src/Domain-Driven-BASIC_CS'\n",
    "REPO_MODULAR_MONOLITH = '/Temp/augmented.dev/src/Modular-monolith-by-example/Src'\n",
    "REPO_PATH = REPO_MODULAR_MONOLITH\n",
    "FILE_EXTENSION = '.cs'\n",
    "CHROMA_DB_SAVE_PATH = '/Temp/augmented.dev/embeddings/vertex-ai'"
   ]
  },
  {
   "cell_type": "markdown",
   "metadata": {},
   "source": [
    "### Vertex AI specific imports\n",
    "\n",
    "**TODO**: there are several models - test them\n",
    "\n",
    "1. `code-bison`: \"A model fine-tuned to generate code based on a natural language description of the desired code. For example, it can generate a unit test for a function.\"  \n",
    "2. ` codechat-biso`n:\"“A model fine-tuned to generate code based on a natural language description of the desired code. For example, it can generate a unit test for a functio.  ”3\n",
    "3`. code-gec`ko “A model fine-tuned for chatbot conversations that help with code-related question\".”"
   ]
  },
  {
   "cell_type": "code",
   "execution_count": 4,
   "metadata": {},
   "outputs": [],
   "source": [
    "from langchain.embeddings import VertexAIEmbeddings\n",
    "from langchain.llms import VertexAI\n",
    "\n",
    "VERTEXAI_EMBEDDING_MODEL = \"textembedding-gecko@001\"\n",
    "\n",
    "VERTEXAI_MODEL_BISON = \"text-bison@001\" # initial, not bad - better than gemini-1.0-pro (sic!)\n",
    "VERTEXAI_MODEL_CODE_BISON = \"code-bison\"\n",
    "VERTEXAI_MODEL_CODECHAT_BISON = \"codechat-bison\"\n",
    "VERTEXAI_MODEL_CODE_GECKO = \"code-gecko\"\n",
    "\n",
    "# HINT: clean that later - for now, just ignore\n",
    "import warnings\n",
    "warnings.filterwarnings('ignore')\n",
    "\n",
    "embedding_model = VertexAIEmbeddings(model_name=VERTEXAI_EMBEDDING_MODEL)\n",
    "\n",
    "llm = VertexAI(model_name=VERTEXAI_MODEL_CODE_BISON)"
   ]
  },
  {
   "cell_type": "code",
   "execution_count": 5,
   "metadata": {},
   "outputs": [],
   "source": [
    "def load_split_documents(repo_path:str, file_extensions:list[str], exclude_files:list[str]=[]):\n",
    "    \"\"\"Splits all text files (of given extension) into chunks to calculate embeddings\"\"\"\n",
    "    def load_documents(repo_path:str, file_extensions:list[str], exclude_files:list[str]=[]):\n",
    "    \n",
    "        loader = GenericLoader.from_filesystem(\n",
    "            repo_path,\n",
    "            glob=\"**/*\",\n",
    "            suffixes=file_extensions,\n",
    "            exclude=exclude_files,\n",
    "            parser=LanguageParser(language=Language.CSHARP, parser_threshold=500),\n",
    "        )\n",
    "        documents = loader.load()\n",
    "        print(f' ** loaded files:  {len(documents)}')\n",
    "        return documents\n",
    "\n",
    "    # HINT: split code files to some arbitrary size. Use overlap\n",
    "    python_splitter = RecursiveCharacterTextSplitter.from_language(\n",
    "        language=Language.CSHARP, chunk_size=2000, chunk_overlap=200\n",
    "    )\n",
    "    documents = load_documents(REPO_PATH, [FILE_EXTENSION])\n",
    "    texts = python_splitter.split_documents(documents)\n",
    "    print(f' ** loaded documents: {len(documents)}; splitted into code files:  {len(texts)}')\n",
    "    return texts"
   ]
  },
  {
   "cell_type": "markdown",
   "metadata": {},
   "source": [
    "### Load or create embeddings"
   ]
  },
  {
   "cell_type": "code",
   "execution_count": 6,
   "metadata": {},
   "outputs": [
    {
     "name": "stdout",
     "output_type": "stream",
     "text": [
      "Embeddings' database was already initializede: /Temp/embeddings/vertex-ai\n",
      " ** db collection counts:  955\n"
     ]
    }
   ],
   "source": [
    "# HINT: try loading existing embeddings from ChromaDB\n",
    "db = Chroma(\n",
    "    persist_directory=CHROMA_DB_SAVE_PATH,\n",
    "    embedding_function=embedding_model\n",
    ")\n",
    "\n",
    "if db._collection.count() > 0:\n",
    "    print(f\"Embeddings' database was already initializede: {CHROMA_DB_SAVE_PATH}\")\n",
    "else:\n",
    "    # when collection's empty, re-create it\n",
    "    print(f\"Embeddings' database is empty - restoring\")\n",
    "    texts = load_split_documents(REPO_PATH, [FILE_EXTENSION])\n",
    "    db = Chroma.from_documents(\n",
    "        documents=texts, \n",
    "        embedding=embedding_model,\n",
    "        persist_directory=CHROMA_DB_SAVE_PATH\n",
    "    )\n",
    "\n",
    "retriever = db.as_retriever(\n",
    "    search_type=\"mmr\",  # Also test \"similarity\"\n",
    "    search_kwargs={\"k\": 8},\n",
    ")\n",
    "db.persist()\n",
    "print(f' ** db collection counts:  {db._collection.count()}')"
   ]
  },
  {
   "cell_type": "markdown",
   "metadata": {},
   "source": [
    "### Create conversation-retrieval chain\n",
    "\n",
    "Some example questions:\n",
    "```\n",
    "* Question:\n",
    "Please write a summary of the Estimation tool: what's the purpose of the project, main technology stack etc. Use at least 5 sentences.\n",
    "* Question:\n",
    "Please list all the classes implementing IAggregateRoot, such as e.g. Inquiry (from `Divstack.Company.Estimation.Tool.Inquiries.Domain.Inquiries` namespace). What are the other classes from Divstack Estimation Tool?\n",
    "* Question:\n",
    "You are a helpful, experienced software developer, eager to help other people understand code.\n",
    "What is the purpose of the Inquiry class. What are the use cases (e.g. events) involved with it?\n",
    "* Question:\n",
    "You are a helpful, experienced software developer, who writes clean, self-explainable object-oriented C# code.\n",
    "Please write xunit tests of the Inquiry class, that tests domain events InquiryMadeDomainEvent. Mock the necessary objects when necessary.\n",
    "* Question:\n",
    "Please explain the code in Inquiry.cs file using 7 bullet points.\n",
    "```"
   ]
  },
  {
   "cell_type": "code",
   "execution_count": 7,
   "metadata": {
    "scrolled": true
   },
   "outputs": [],
   "source": [
    "memory = ConversationSummaryMemory(\n",
    "    llm=llm, memory_key=\"chat_history\", return_messages=True\n",
    ")\n",
    "qa = ConversationalRetrievalChain.from_llm(llm, retriever=retriever, memory=memory)"
   ]
  },
  {
   "cell_type": "code",
   "execution_count": 8,
   "metadata": {},
   "outputs": [
    {
     "data": {
      "text/markdown": [
       " The provided code snippets do not contain any information about the purpose or technology stack of the Estimation tool project."
      ],
      "text/plain": [
       "<IPython.core.display.Markdown object>"
      ]
     },
     "metadata": {},
     "output_type": "display_data"
    }
   ],
   "source": [
    "question = dedent(\"\"\"Please write a summary of the Estimation tool: what's the purpose of the project, main technology stack etc.\n",
    "Use at least 5 sentences.\n",
    "\"\"\")\n",
    "result = qa(question)\n",
    "display(Markdown(result['answer']))"
   ]
  },
  {
   "cell_type": "markdown",
   "metadata": {},
   "source": [
    "### Interactive extension"
   ]
  },
  {
   "cell_type": "code",
   "execution_count": 9,
   "metadata": {},
   "outputs": [
    {
     "data": {
      "text/html": [
       "<link rel=\"stylesheet\" \n",
       "      href=\"https://cdn.jsdelivr.net/npm/bootstrap@4.5.3/dist/css/bootstrap.min.css\" \n",
       "      integrity=\"sha384-TX8t27EcRE3e/ihU7zmQxVncDAy5uIKz4rEkgIXeMed4M0jlfIDPvg6uqKI2xXr2\" \n",
       "      crossorigin=\"anonymous\">\n",
       "<style>\n",
       "    body{margin-top:20px;}\n",
       "\n",
       "    .chat-message-left,\n",
       "    .chat-message-right {\n",
       "        display: flex;\n",
       "        flex-shrink: 0\n",
       "    }\n",
       "\n",
       "    .chat-message-left {\n",
       "        margin-right: auto\n",
       "    }\n",
       "\n",
       "    .chat-message-right {\n",
       "        flex-direction: row-reverse;\n",
       "        margin-left: auto\n",
       "    }\n",
       "</style>\n"
      ],
      "text/plain": [
       "<IPython.core.display.HTML object>"
      ]
     },
     "metadata": {},
     "output_type": "display_data"
    },
    {
     "data": {
      "application/vnd.jupyter.widget-view+json": {
       "model_id": "458deb83873c40d0b2ed0dc853797e7b",
       "version_major": 2,
       "version_minor": 0
      },
      "text/plain": [
       "HBox(children=(Output(),), layout=Layout(display='inline-flex', flex_flow='column-reverse', max_height='500px'…"
      ]
     },
     "metadata": {},
     "output_type": "display_data"
    },
    {
     "data": {
      "application/vnd.jupyter.widget-view+json": {
       "model_id": "0de830e104504ababf055a143e156f18",
       "version_major": 2,
       "version_minor": 0
      },
      "text/plain": [
       "Box(children=(Image(value=b'GIF89a\\xc8\\x00\\xc8\\x00\\xf7\\x00\\x00;Ch\\x83\\x90\\xb7\\xcf\\xdc\\xe8\\xda\\xec\\xf1\\xf1\\xf2\\…"
      ]
     },
     "metadata": {},
     "output_type": "display_data"
    }
   ],
   "source": [
    "%run _interactive.ipynb"
   ]
  },
  {
   "cell_type": "markdown",
   "metadata": {},
   "source": [
    "### Previous results"
   ]
  },
  {
   "cell_type": "code",
   "execution_count": 8,
   "metadata": {},
   "outputs": [
    {
     "name": "stderr",
     "output_type": "stream",
     "text": [
      "C:\\Users\\tomasz.gdula\\AppData\\Local\\anaconda3\\envs\\LLM3.11\\Lib\\site-packages\\langchain_core\\_api\\deprecation.py:117: LangChainDeprecationWarning: The function `__call__` was deprecated in LangChain 0.1.0 and will be removed in 0.2.0. Use invoke instead.\n",
      "  warn_deprecated(\n"
     ]
    },
    {
     "name": "stdout",
     "output_type": "stream",
     "text": [
      "\n",
      "Without seeing more context, it is difficult to determine the specific classes from the `Divstack.Company.Estimation.Tool` namespace. However, based on the given context, we can infer that there are classes related to inquiries, valuations, priorities, services, and attributes within this namespace. \n"
     ]
    },
    {
     "data": {
      "text/markdown": [
       "\n",
       "Without seeing more context, it is difficult to determine the specific classes from the `Divstack.Company.Estimation.Tool` namespace. However, based on the given context, we can infer that there are classes related to inquiries, valuations, priorities, services, and attributes within this namespace. "
      ],
      "text/plain": [
       "<IPython.core.display.Markdown object>"
      ]
     },
     "metadata": {},
     "output_type": "display_data"
    }
   ],
   "source": [
    "question = dedent(\"\"\"Please list all the classes implementing IAggregateRoot, \n",
    "    such as e.g. Inquiry (from `Divstack.Company.Estimation.Tool.Inquiries.Domain.Inquiries` namespace).\n",
    "    What are the other classes from Divstack Estimation Tool?\"\"\")\n",
    "result = qa(question)\n",
    "print(result[\"answer\"])\n",
    "display(Markdown(result[\"answer\"]))"
   ]
  },
  {
   "cell_type": "code",
   "execution_count": 9,
   "metadata": {},
   "outputs": [
    {
     "name": "stdout",
     "output_type": "stream",
     "text": [
      " The Inquiry class is a domain entity that represents a customer inquiry for services. It is used to create an inquiry, validate the services and client, and publish an event when the inquiry is made. The involved use cases for this class include creating an inquiry, validating services, and publishing an event.\n"
     ]
    },
    {
     "data": {
      "text/markdown": [
       " The Inquiry class is a domain entity that represents a customer inquiry for services. It is used to create an inquiry, validate the services and client, and publish an event when the inquiry is made. The involved use cases for this class include creating an inquiry, validating services, and publishing an event."
      ],
      "text/plain": [
       "<IPython.core.display.Markdown object>"
      ]
     },
     "metadata": {},
     "output_type": "display_data"
    }
   ],
   "source": [
    "question = dedent(\"\"\"You are a helpful, experienced software developer, eager to help other people understand code.\n",
    "What is the purpose of the Inquiry class. What are the use cases (e.g. events) involved with it?\"\"\")\n",
    "result = qa(question)\n",
    "print(result[\"answer\"])\n",
    "display(Markdown(result[\"answer\"]))"
   ]
  },
  {
   "cell_type": "code",
   "execution_count": 10,
   "metadata": {},
   "outputs": [
    {
     "name": "stdout",
     "output_type": "stream",
     "text": [
      "\n",
      "Sure, here's an example of how you could write tests for the Inquiry class, using xUnit and NSubstitute for mocking:\n",
      "\n",
      "```\n",
      "public class InquiryTests\n",
      "{\n",
      "    // The Inquiry class requires a service existing checker and a client object in its constructor, so we'll mock those using NSubstitute.\n",
      "    private readonly IServiceExistingChecker _serviceExistingChecker = Substitute.For<IServiceExistingChecker>();\n",
      "    private readonly Client _client = Substitute.For<Client>();\n",
      "\n",
      "    // We'll also create a fake list of services to use in our tests.\n",
      "    private readonly List<Service> _services = new List<Service>\n",
      "    {\n",
      "        new Service(\"Service 1\"),\n",
      "        new Service(\"Service 2\")\n",
      "    };\n",
      "\n",
      "    // The MakeAsync method is the main method we want to test, so we'll start with a test for that.\n",
      "    [Fact]\n",
      "    public async Task Given_ValidParameters_Then_InquiryIsMade()\n",
      "    {\n",
      "        // Arrange\n",
      "        // We'll use the SetupServiceExistingChecker method to set up our mock service existing checker to return true.\n",
      "        SetupServiceExistingChecker(true);\n",
      "\n",
      "        // Act\n",
      "        // We'll call the MakeAsync method on the Inquiry class, passing in our mock objects.\n",
      "        var inquiry = await Inquiry.MakeAsync(_services\n"
     ]
    },
    {
     "data": {
      "text/markdown": [
       "\n",
       "Sure, here's an example of how you could write tests for the Inquiry class, using xUnit and NSubstitute for mocking:\n",
       "\n",
       "```\n",
       "public class InquiryTests\n",
       "{\n",
       "    // The Inquiry class requires a service existing checker and a client object in its constructor, so we'll mock those using NSubstitute.\n",
       "    private readonly IServiceExistingChecker _serviceExistingChecker = Substitute.For<IServiceExistingChecker>();\n",
       "    private readonly Client _client = Substitute.For<Client>();\n",
       "\n",
       "    // We'll also create a fake list of services to use in our tests.\n",
       "    private readonly List<Service> _services = new List<Service>\n",
       "    {\n",
       "        new Service(\"Service 1\"),\n",
       "        new Service(\"Service 2\")\n",
       "    };\n",
       "\n",
       "    // The MakeAsync method is the main method we want to test, so we'll start with a test for that.\n",
       "    [Fact]\n",
       "    public async Task Given_ValidParameters_Then_InquiryIsMade()\n",
       "    {\n",
       "        // Arrange\n",
       "        // We'll use the SetupServiceExistingChecker method to set up our mock service existing checker to return true.\n",
       "        SetupServiceExistingChecker(true);\n",
       "\n",
       "        // Act\n",
       "        // We'll call the MakeAsync method on the Inquiry class, passing in our mock objects.\n",
       "        var inquiry = await Inquiry.MakeAsync(_services"
      ],
      "text/plain": [
       "<IPython.core.display.Markdown object>"
      ]
     },
     "metadata": {},
     "output_type": "display_data"
    }
   ],
   "source": [
    "\n",
    "question = dedent(\"\"\"You are a helpful, experienced software developer, who writes clean, self-explainable object-oriented C# code.\n",
    "Please write xunit tests of the Inquiry class, that tests domain events InquiryMadeDomainEvent. Mock the necessary objects when necessary.\"\"\")\n",
    "result = qa(question)\n",
    "print(result[\"answer\"])\n",
    "display(Markdown(result[\"answer\"]))"
   ]
  },
  {
   "cell_type": "code",
   "execution_count": 11,
   "metadata": {},
   "outputs": [
    {
     "data": {
      "text/markdown": [
       "\n",
       "\n",
       "Unfortunately, without access to the code for the Inquiry class, it is not possible to provide an example of how to write xunit tests for it. Additionally, the provided context does not include any information about the specific functionality of the Inquiry class, so it is not possible to accurately write a test for its success. It is recommended to review the documentation for xunit and the specific functionality of the Inquiry class to determine the appropriate way to write tests for it."
      ],
      "text/plain": [
       "<IPython.core.display.Markdown object>"
      ]
     },
     "metadata": {},
     "output_type": "display_data"
    }
   ],
   "source": [
    "question = \"Please write xunit test code that creates a Inquiry object and tests it succeeded.\"\n",
    "result = qa(question)\n",
    "display(Markdown(result[\"answer\"]))\n",
    "#result[\"answer\"]"
   ]
  },
  {
   "cell_type": "code",
   "execution_count": 13,
   "metadata": {},
   "outputs": [
    {
     "data": {
      "text/markdown": [
       "\n",
       "1. The Inquiry.cs file is a part of the Divstack.Company.Estimation.Tool.Inquiries domain and it contains the Inquiry class.\n",
       "2. The Inquiry class is a specific type of entity that represents an inquiry made by a client for a particular service.\n",
       "3. The class contains properties such as Id, ClientFirstName, ClientLastName, and ClientEmail that store information about the inquiry.\n",
       "4. The class also has a private constructor and a public factory method that is used to create a new instance of the Inquiry class.\n",
       "5. The class has a private Service property that stores information about the service requested in the inquiry.\n",
       "6. The class also has a private InquiryItemId property that stores the unique identifier for the inquiry item.\n",
       "7. Finally, the class has a Create method that is used to create a new instance of the Inquiry class."
      ],
      "text/plain": [
       "<IPython.core.display.Markdown object>"
      ]
     },
     "metadata": {},
     "output_type": "display_data"
    }
   ],
   "source": [
    "question = dedent(\"\"\"Please explain the code in Inquiry.cs file using 7 bullet points.\"\"\")\n",
    "result = qa(question)\n",
    "result['answer']\n",
    "display(Markdown(result[\"answer\"]))"
   ]
  },
  {
   "cell_type": "markdown",
   "metadata": {},
   "source": [
    "## Some other code"
   ]
  },
  {
   "cell_type": "markdown",
   "metadata": {},
   "source": [
    "Code generated:\n",
    "```\n",
    "using System;\n",
    "using Xunit;\n",
    "using eCommerce.DomainModelLayer.Customers;\n",
    "using eCommerce.Helpers.Domain;\n",
    "\n",
    "namespace eCommerce.Tests\n",
    "{\n",
    "    public class CustomerTests\n",
    "    {\n",
    "        [Fact]\n",
    "        public void Create_ValidFirstNameLastNameEmailCountry_CreatesCustomer()\n",
    "        {\n",
    "            // Arrange\n",
    "            string firstname = \"John\";\n",
    "            string lastname = \"Doe\";\n",
    "            string email = \"johndoe@example.com\";\n",
    "            Country country = new Country(\"United States\", 1);\n",
    "            \n",
    "            // Act\n",
    "            Customer customer = Customer.Create(firstname, lastname, email, country);\n",
    "            \n",
    "            // Assert\n",
    "            Assert.NotNull(customer);\n",
    "            Assert.Equal(Guid.Empty, customer.Id);\n",
    "            Assert.Equal(\"John\", customer.FirstName);\n",
    "            Assert.Equal(\"Doe\", customer.LastName);\n",
    "            Assert.Equal(\"johndoe@example.com\", customer.Email);\n",
    "            Assert.Equal(1, customer.CountryId);\n",
    "            \n",
    "        }\n",
    "    }\n",
    "}\n",
    "```\n",
    "This unit test code verifies that creating a `Customer` object with valid first name, last name, email, and country values results in the creation of a new instance of the `Customer` class. The test case also checks for the correctness of the properties of the `Customer` object being created.\n",
    "```"
   ]
  },
  {
   "cell_type": "code",
   "execution_count": null,
   "metadata": {},
   "outputs": [],
   "source": []
  }
 ],
 "metadata": {
  "kernelspec": {
   "display_name": "Python 3 (ipykernel)",
   "language": "python",
   "name": "python3"
  },
  "language_info": {
   "codemirror_mode": {
    "name": "ipython",
    "version": 3
   },
   "file_extension": ".py",
   "mimetype": "text/x-python",
   "name": "python",
   "nbconvert_exporter": "python",
   "pygments_lexer": "ipython3",
   "version": "3.11.8"
  }
 },
 "nbformat": 4,
 "nbformat_minor": 4
}
